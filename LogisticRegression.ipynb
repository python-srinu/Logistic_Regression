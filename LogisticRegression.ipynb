{
 "cells": [
  {
   "cell_type": "code",
   "execution_count": 1,
   "id": "1536246e",
   "metadata": {},
   "outputs": [],
   "source": [
    "# Import necessary libraries\n",
    "import numpy as np\n",
    "import matplotlib.pyplot as plt\n",
    "from sklearn.datasets import load_digits\n",
    "from sklearn.model_selection import train_test_split, GridSearchCV\n",
    "from sklearn.linear_model import LogisticRegression\n",
    "from sklearn.metrics import accuracy_score, classification_report, confusion_matrix, ConfusionMatrixDisplay"
   ]
  },
  {
   "cell_type": "code",
   "execution_count": 2,
   "id": "f0cb6088",
   "metadata": {},
   "outputs": [
    {
     "name": "stdout",
     "output_type": "stream",
     "text": [
      "Dataset Description: .. _digits_dataset:\n",
      "\n",
      "Optical recognition of handwritten digits dataset\n",
      "--------------------------------------------------\n",
      "\n",
      "**Data Set Characteristics:**\n",
      "\n",
      "    :Number of Instances: 1797\n",
      "    :Number of Attributes: 64\n",
      "    :Attribute Information: 8x8 image of integer pixels in the range 0..16.\n",
      "    :Missing Attribute Values: None\n",
      "    :Creator: E. Alpaydin (alpaydin '@' boun.edu.tr)\n",
      "    :Date: July; 1998\n",
      "\n",
      "This is a copy of the test set of the UCI ML hand-written digits datasets\n",
      "https://archive.ics.uci...\n",
      "Image data shape: (1797, 8, 8)\n",
      "Number of labels: 10\n"
     ]
    }
   ],
   "source": [
    "#Load the dataset\n",
    "digits = load_digits()\n",
    "\n",
    "# Dataset information\n",
    "print(f\"Dataset Description: {digits.DESCR[:500]}...\")\n",
    "print(f\"Image data shape: {digits.images.shape}\")\n",
    "print(f\"Number of labels: {len(np.unique(digits.target))}\")\n"
   ]
  },
  {
   "cell_type": "code",
   "execution_count": 3,
   "id": "1bce0e8b",
   "metadata": {},
   "outputs": [
    {
     "data": {
      "image/png": "[encoded data removed]",
      "text/plain": [
       "<Figure size 1000x400 with 5 Axes>"
      ]
     },
     "metadata": {},
     "output_type": "display_data"
    }
   ],
   "source": [
    "# Visualizaiton of sample images\n",
    "fig, axes = plt.subplots(1, 5, figsize=(10, 4))\n",
    "for ax, image, label in zip(axes, digits.images[:5], digits.target[:5]):\n",
    "    ax.imshow(image, cmap='gray')\n",
    "    ax.set_title(f\"Label: {label}\")\n",
    "    ax.axis('off')\n",
    "plt.suptitle(\"Five Sample Images from the Digits Dataset\")\n",
    "plt.show()"
   ]
  },
  {
   "cell_type": "code",
   "execution_count": 4,
   "id": "48e7a9de",
   "metadata": {},
   "outputs": [],
   "source": [
    "# Flatten the image data\n",
    "X = digits.images.reshape((len(digits.images), -1))\n",
    "y = digits.target"
   ]
  },
  {
   "cell_type": "code",
   "execution_count": 8,
   "id": "5392b315",
   "metadata": {},
   "outputs": [
    {
     "name": "stdout",
     "output_type": "stream",
     "text": [
      "\n",
      "Evaluating model with test_size=0.2...\n",
      "Fitting 5 folds for each of 108 candidates, totalling 540 fits\n"
     ]
    },
    {
     "name": "stderr",
     "output_type": "stream",
     "text": [
      "C:\\Users\\srinivasareddyb\\anaconda3\\Lib\\site-packages\\sklearn\\model_selection\\_validation.py:378: FitFailedWarning: \n",
      "60 fits failed out of a total of 540.\n",
      "The score on these train-test partitions for these parameters will be set to nan.\n",
      "If these failures are not expected, you can try to debug them by setting error_score='raise'.\n",
      "\n",
      "Below are more details about the failures:\n",
      "--------------------------------------------------------------------------------\n",
      "60 fits failed with the following error:\n",
      "Traceback (most recent call last):\n",
      "  File \"C:\\Users\\srinivasareddyb\\anaconda3\\Lib\\site-packages\\sklearn\\model_selection\\_validation.py\", line 686, in _fit_and_score\n",
      "    estimator.fit(X_train, y_train, **fit_params)\n",
      "  File \"C:\\Users\\srinivasareddyb\\anaconda3\\Lib\\site-packages\\sklearn\\linear_model\\_logistic.py\", line 1291, in fit\n",
      "    fold_coefs_ = Parallel(n_jobs=self.n_jobs, verbose=self.verbose, prefer=prefer)(\n",
      "                  ^^^^^^^^^^^^^^^^^^^^^^^^^^^^^^^^^^^^^^^^^^^^^^^^^^^^^^^^^^^^^^^^^^\n",
      "  File \"C:\\Users\\srinivasareddyb\\anaconda3\\Lib\\site-packages\\sklearn\\utils\\parallel.py\", line 63, in __call__\n",
      "    return super().__call__(iterable_with_config)\n",
      "           ^^^^^^^^^^^^^^^^^^^^^^^^^^^^^^^^^^^^^^\n",
      "  File \"C:\\Users\\srinivasareddyb\\anaconda3\\Lib\\site-packages\\joblib\\parallel.py\", line 1048, in __call__\n",
      "    if self.dispatch_one_batch(iterator):\n",
      "       ^^^^^^^^^^^^^^^^^^^^^^^^^^^^^^^^^\n",
      "  File \"C:\\Users\\srinivasareddyb\\anaconda3\\Lib\\site-packages\\joblib\\parallel.py\", line 864, in dispatch_one_batch\n",
      "    self._dispatch(tasks)\n",
      "  File \"C:\\Users\\srinivasareddyb\\anaconda3\\Lib\\site-packages\\joblib\\parallel.py\", line 782, in _dispatch\n",
      "    job = self._backend.apply_async(batch, callback=cb)\n",
      "          ^^^^^^^^^^^^^^^^^^^^^^^^^^^^^^^^^^^^^^^^^^^^^\n",
      "  File \"C:\\Users\\srinivasareddyb\\anaconda3\\Lib\\site-packages\\joblib\\_parallel_backends.py\", line 208, in apply_async\n",
      "    result = ImmediateResult(func)\n",
      "             ^^^^^^^^^^^^^^^^^^^^^\n",
      "  File \"C:\\Users\\srinivasareddyb\\anaconda3\\Lib\\site-packages\\joblib\\_parallel_backends.py\", line 572, in __init__\n",
      "    self.results = batch()\n",
      "                   ^^^^^^^\n",
      "  File \"C:\\Users\\srinivasareddyb\\anaconda3\\Lib\\site-packages\\joblib\\parallel.py\", line 263, in __call__\n",
      "    return [func(*args, **kwargs)\n",
      "           ^^^^^^^^^^^^^^^^^^^^^^\n",
      "  File \"C:\\Users\\srinivasareddyb\\anaconda3\\Lib\\site-packages\\joblib\\parallel.py\", line 263, in <listcomp>\n",
      "    return [func(*args, **kwargs)\n",
      "            ^^^^^^^^^^^^^^^^^^^^^\n",
      "  File \"C:\\Users\\srinivasareddyb\\anaconda3\\Lib\\site-packages\\sklearn\\utils\\parallel.py\", line 123, in __call__\n",
      "    return self.function(*args, **kwargs)\n",
      "           ^^^^^^^^^^^^^^^^^^^^^^^^^^^^^^\n",
      "  File \"C:\\Users\\srinivasareddyb\\anaconda3\\Lib\\site-packages\\sklearn\\linear_model\\_logistic.py\", line 521, in _logistic_regression_path\n",
      "    alpha = (1.0 / C) * (1 - l1_ratio)\n",
      "                         ~~^~~~~~~~~~\n",
      "TypeError: unsupported operand type(s) for -: 'int' and 'NoneType'\n",
      "\n",
      "  warnings.warn(some_fits_failed_message, FitFailedWarning)\n",
      "C:\\Users\\srinivasareddyb\\anaconda3\\Lib\\site-packages\\sklearn\\model_selection\\_search.py:952: UserWarning: One or more of the test scores are non-finite: [0.95823171 0.9596206  0.94988386 0.9477981  0.95822687 0.9596206\n",
      " 0.94988386 0.9477981  0.95892615 0.9596206  0.94988386 0.9477981\n",
      " 0.95406262 0.95684282 0.94988386 0.9477981  0.95822929 0.95684282\n",
      " 0.94988386 0.9477981  0.95475223 0.95684282 0.94988386 0.9477981\n",
      " 0.95197203 0.95475465 0.94988386 0.9477981  0.95406262 0.95475465\n",
      " 0.94988386 0.9477981  0.95475223 0.95475465 0.94988386 0.9477981\n",
      " 0.95196961 0.95336334 0.94988386 0.9477981  0.95336334 0.95336334\n",
      " 0.94988386 0.9477981  0.9533585  0.95336334 0.94988386 0.9477981\n",
      " 0.9672861  0.9672861  0.9672861  0.95266163 0.95266163 0.95266163\n",
      " 0.93735966 0.94014712 0.93875339 0.93457704 0.93457946 0.93527391\n",
      " 0.961024   0.96031746        nan 0.95892615 0.95893825 0.96031988\n",
      "        nan 0.95614353 0.95893825 0.96031988        nan 0.95544909\n",
      " 0.9603223  0.95823171        nan 0.9596206  0.96171603 0.95683798\n",
      "        nan 0.95614353 0.96102642 0.95614353        nan 0.95475465\n",
      " 0.9596206  0.9596206         nan 0.9596206  0.95614353 0.95544909\n",
      "        nan 0.95614353 0.95614353 0.95475465        nan 0.95544909\n",
      " 0.96031746 0.96031746        nan 0.9596206  0.95544909 0.95614353\n",
      "        nan 0.95614353 0.95614353 0.95544909        nan 0.9540602 ]\n",
      "  warnings.warn(\n"
     ]
    },
    {
     "name": "stdout",
     "output_type": "stream",
     "text": [
      "Train Accuracy: 0.98, Test Accuracy: 0.96\n",
      "\n",
      "Evaluating model with test_size=0.3...\n",
      "Fitting 5 folds for each of 108 candidates, totalling 540 fits\n"
     ]
    },
    {
     "name": "stderr",
     "output_type": "stream",
     "text": [
      "C:\\Users\\srinivasareddyb\\anaconda3\\Lib\\site-packages\\sklearn\\model_selection\\_validation.py:378: FitFailedWarning: \n",
      "60 fits failed out of a total of 540.\n",
      "The score on these train-test partitions for these parameters will be set to nan.\n",
      "If these failures are not expected, you can try to debug them by setting error_score='raise'.\n",
      "\n",
      "Below are more details about the failures:\n",
      "--------------------------------------------------------------------------------\n",
      "60 fits failed with the following error:\n",
      "Traceback (most recent call last):\n",
      "  File \"C:\\Users\\srinivasareddyb\\anaconda3\\Lib\\site-packages\\sklearn\\model_selection\\_validation.py\", line 686, in _fit_and_score\n",
      "    estimator.fit(X_train, y_train, **fit_params)\n",
      "  File \"C:\\Users\\srinivasareddyb\\anaconda3\\Lib\\site-packages\\sklearn\\linear_model\\_logistic.py\", line 1291, in fit\n",
      "    fold_coefs_ = Parallel(n_jobs=self.n_jobs, verbose=self.verbose, prefer=prefer)(\n",
      "                  ^^^^^^^^^^^^^^^^^^^^^^^^^^^^^^^^^^^^^^^^^^^^^^^^^^^^^^^^^^^^^^^^^^\n",
      "  File \"C:\\Users\\srinivasareddyb\\anaconda3\\Lib\\site-packages\\sklearn\\utils\\parallel.py\", line 63, in __call__\n",
      "    return super().__call__(iterable_with_config)\n",
      "           ^^^^^^^^^^^^^^^^^^^^^^^^^^^^^^^^^^^^^^\n",
      "  File \"C:\\Users\\srinivasareddyb\\anaconda3\\Lib\\site-packages\\joblib\\parallel.py\", line 1048, in __call__\n",
      "    if self.dispatch_one_batch(iterator):\n",
      "       ^^^^^^^^^^^^^^^^^^^^^^^^^^^^^^^^^\n",
      "  File \"C:\\Users\\srinivasareddyb\\anaconda3\\Lib\\site-packages\\joblib\\parallel.py\", line 864, in dispatch_one_batch\n",
      "    self._dispatch(tasks)\n",
      "  File \"C:\\Users\\srinivasareddyb\\anaconda3\\Lib\\site-packages\\joblib\\parallel.py\", line 782, in _dispatch\n",
      "    job = self._backend.apply_async(batch, callback=cb)\n",
      "          ^^^^^^^^^^^^^^^^^^^^^^^^^^^^^^^^^^^^^^^^^^^^^\n",
      "  File \"C:\\Users\\srinivasareddyb\\anaconda3\\Lib\\site-packages\\joblib\\_parallel_backends.py\", line 208, in apply_async\n",
      "    result = ImmediateResult(func)\n",
      "             ^^^^^^^^^^^^^^^^^^^^^\n",
      "  File \"C:\\Users\\srinivasareddyb\\anaconda3\\Lib\\site-packages\\joblib\\_parallel_backends.py\", line 572, in __init__\n",
      "    self.results = batch()\n",
      "                   ^^^^^^^\n",
      "  File \"C:\\Users\\srinivasareddyb\\anaconda3\\Lib\\site-packages\\joblib\\parallel.py\", line 263, in __call__\n",
      "    return [func(*args, **kwargs)\n",
      "           ^^^^^^^^^^^^^^^^^^^^^^\n",
      "  File \"C:\\Users\\srinivasareddyb\\anaconda3\\Lib\\site-packages\\joblib\\parallel.py\", line 263, in <listcomp>\n",
      "    return [func(*args, **kwargs)\n",
      "            ^^^^^^^^^^^^^^^^^^^^^\n",
      "  File \"C:\\Users\\srinivasareddyb\\anaconda3\\Lib\\site-packages\\sklearn\\utils\\parallel.py\", line 123, in __call__\n",
      "    return self.function(*args, **kwargs)\n",
      "           ^^^^^^^^^^^^^^^^^^^^^^^^^^^^^^\n",
      "  File \"C:\\Users\\srinivasareddyb\\anaconda3\\Lib\\site-packages\\sklearn\\linear_model\\_logistic.py\", line 521, in _logistic_regression_path\n",
      "    alpha = (1.0 / C) * (1 - l1_ratio)\n",
      "                         ~~^~~~~~~~~~\n",
      "TypeError: unsupported operand type(s) for -: 'int' and 'NoneType'\n",
      "\n",
      "  warnings.warn(some_fits_failed_message, FitFailedWarning)\n",
      "C:\\Users\\srinivasareddyb\\anaconda3\\Lib\\site-packages\\sklearn\\model_selection\\_search.py:952: UserWarning: One or more of the test scores are non-finite: [0.95544173 0.95623854 0.94431164 0.94907671 0.95623854 0.95623854\n",
      " 0.94431164 0.94907671 0.9562417  0.95623854 0.94431164 0.94907671\n",
      " 0.95384494 0.95225447 0.94431164 0.94907671 0.95384494 0.95225447\n",
      " 0.94431164 0.94907671 0.95146082 0.95225447 0.94431164 0.94907671\n",
      " 0.95464175 0.95145766 0.94431164 0.94907671 0.95066401 0.95145766\n",
      " 0.94431164 0.94907671 0.95066085 0.95145766 0.94431164 0.94907671\n",
      " 0.95703219 0.95145766 0.94431164 0.94907671 0.94987036 0.95145766\n",
      " 0.94431164 0.94907671 0.95145766 0.95145766 0.94431164 0.94907671\n",
      " 0.96021944 0.95942579 0.96021944 0.94987668 0.94907987 0.94907987\n",
      " 0.93793398 0.93714033 0.93872763 0.93157529 0.93396256 0.93476254\n",
      " 0.95226712 0.957829          nan 0.95543856 0.95146715 0.95544173\n",
      "        nan 0.95304812 0.95146715 0.95544173        nan 0.95305129\n",
      " 0.95942263 0.95782584        nan 0.95703535 0.9602226  0.95384178\n",
      "        nan 0.95384494 0.95465124 0.95225131        nan 0.95304812\n",
      " 0.95703219 0.95543856        nan 0.957829   0.95384178 0.95463859\n",
      "        nan 0.95304812 0.95463859 0.95225131        nan 0.95304812\n",
      " 0.95623221 0.95544173        nan 0.95782584 0.95384178 0.95305129\n",
      "        nan 0.95304812 0.95304496 0.95145766        nan 0.95304812]\n",
      "  warnings.warn(\n"
     ]
    },
    {
     "name": "stdout",
     "output_type": "stream",
     "text": [
      "Train Accuracy: 1.00, Test Accuracy: 0.97\n"
     ]
    },
    {
     "name": "stderr",
     "output_type": "stream",
     "text": [
      "C:\\Users\\srinivasareddyb\\anaconda3\\Lib\\site-packages\\sklearn\\linear_model\\_sag.py:350: ConvergenceWarning: The max_iter was reached which means the coef_ did not converge\n",
      "  warnings.warn(\n"
     ]
    }
   ],
   "source": [
    "from sklearn.linear_model import LogisticRegression\n",
    "from sklearn.model_selection import train_test_split, GridSearchCV\n",
    "from sklearn.metrics import accuracy_score\n",
    "\n",
    "# Possible test sizes\n",
    "test_sizes = [0.2, 0.3]\n",
    "results = []\n",
    "\n",
    "# Loop through each test size and evaluating model performance\n",
    "for test_size in test_sizes:\n",
    "    print(f\"\\nEvaluating model with test_size={test_size}...\")\n",
    "\n",
    "    X_train, X_test, y_train, y_test = train_test_split(X, y, test_size=test_size, random_state=42)\n",
    "\n",
    "    # GridSearchCV with valid combinations\n",
    "    param_grid = [\n",
    "        {'penalty': ['l2', 'none'], 'solver': ['lbfgs', 'newton-cg'], 'C': [0.1, 1, 10, 100], 'max_iter': [100, 500, 1000]},\n",
    "        {'penalty': ['l1'], 'solver': ['liblinear'], 'C': [0.1, 1, 10, 100], 'max_iter': [100, 500, 1000]},\n",
    "        {'penalty': ['l1', 'l2', 'elasticnet', 'none'], 'solver': ['saga'], 'C': [0.1, 1, 10, 100], 'max_iter': [100, 500, 1000]},\n",
    "    ]\n",
    "\n",
    "    grid_search = GridSearchCV(\n",
    "        estimator=LogisticRegression(multi_class='auto'),\n",
    "        param_grid=param_grid,\n",
    "        cv=5,\n",
    "        scoring='accuracy',\n",
    "        n_jobs=-1,\n",
    "        verbose=1\n",
    "    )\n",
    "\n",
    "    grid_search.fit(X_train, y_train)\n",
    "\n",
    "    # Best model and evaluation\n",
    "    best_model = grid_search.best_estimator_\n",
    "    y_pred = best_model.predict(X_test)\n",
    "\n",
    "    # Accuracy\n",
    "    train_accuracy = grid_search.score(X_train, y_train)\n",
    "    test_accuracy = accuracy_score(y_test, y_pred)\n",
    "    results.append((test_size, train_accuracy, test_accuracy))\n",
    "\n",
    "    print(f\"Train Accuracy: {train_accuracy:.2f}, Test Accuracy: {test_accuracy:.2f}\")\n"
   ]
  },
  {
   "cell_type": "code",
   "execution_count": 9,
   "id": "9e75d0ac",
   "metadata": {},
   "outputs": [
    {
     "name": "stdout",
     "output_type": "stream",
     "text": [
      "\n",
      "Best test_size: 0.3 with Test Accuracy: 0.97\n"
     ]
    }
   ],
   "source": [
    "# Best test size and accuracy\n",
    "best_test_size = max(results, key=lambda x: x[2])  # Select based on test accuracy\n",
    "print(f\"\\nBest test_size: {best_test_size[0]} with Test Accuracy: {best_test_size[2]:.2f}\")"
   ]
  },
  {
   "cell_type": "code",
   "execution_count": 10,
   "id": "b66f1d6f",
   "metadata": {},
   "outputs": [],
   "source": [
    "# Model with the best test size\n",
    "X_train, X_test, y_train, y_test = train_test_split(X, y, test_size=best_test_size[0], random_state=42)"
   ]
  },
  {
   "cell_type": "code",
   "execution_count": 11,
   "id": "49f0675c",
   "metadata": {},
   "outputs": [
    {
     "name": "stderr",
     "output_type": "stream",
     "text": [
      "C:\\Users\\srinivasareddyb\\anaconda3\\Lib\\site-packages\\sklearn\\linear_model\\_sag.py:350: ConvergenceWarning: The max_iter was reached which means the coef_ did not converge\n",
      "  warnings.warn(\n"
     ]
    }
   ],
   "source": [
    "# Fitting the best model again for final evaluation\n",
    "final_model = LogisticRegression(multi_class='auto', **grid_search.best_params_)\n",
    "final_model.fit(X_train, y_train)\n",
    "y_pred = final_model.predict(X_test)"
   ]
  },
  {
   "cell_type": "code",
   "execution_count": 12,
   "id": "65bacc95",
   "metadata": {},
   "outputs": [
    {
     "data": {
      "image/png": "[encoded data removed]",
      "text/plain": [
       "<Figure size 640x480 with 2 Axes>"
      ]
     },
     "metadata": {},
     "output_type": "display_data"
    }
   ],
   "source": [
    "# Confusion Matrix\n",
    "conf_matrix = confusion_matrix(y_test, y_pred)\n",
    "ConfusionMatrixDisplay(conf_matrix, display_labels=digits.target_names).plot(cmap='viridis', xticks_rotation=45)\n",
    "plt.title(\"Confusion Matrix with Optimal Test Size\")\n",
    "plt.show()"
   ]
  },
  {
   "cell_type": "code",
   "execution_count": 23,
   "id": "0497f8cf",
   "metadata": {},
   "outputs": [
    {
     "data": {
      "image/png": "[encoded data removed]",
      "text/plain": [
       "<Figure size 640x480 with 1 Axes>"
      ]
     },
     "metadata": {},
     "output_type": "display_data"
    }
   ],
   "source": [
    "# Validate prediction with a sample image\n",
    "sample_index = 234  # Change this index to validate other samples\n",
    "sample_image = X_test[sample_index].reshape(8, 8)\n",
    "predicted_label = final_model.predict([X_test[sample_index]])[0]\n",
    "true_label = y_test[sample_index]\n",
    "\n",
    "plt.imshow(sample_image, cmap='gray')\n",
    "plt.title(f\"Validation\\nTrue Label: {true_label}, Predicted Label: {predicted_label}\")\n",
    "plt.axis('off')\n",
    "plt.show()"
   ]
  },
  {
   "cell_type": "code",
   "execution_count": 24,
   "id": "51451860",
   "metadata": {},
   "outputs": [
    {
     "name": "stdout",
     "output_type": "stream",
     "text": [
      "\n",
      "Results for all test sizes:\n",
      "Test Size: 0.2, Train Accuracy: 0.98, Test Accuracy: 0.96\n",
      "Test Size: 0.3, Train Accuracy: 1.00, Test Accuracy: 0.97\n"
     ]
    }
   ],
   "source": [
    "# Results summary\n",
    "print(\"\\nResults for all test sizes:\")\n",
    "for test_size, train_acc, test_acc in results:\n",
    "    print(f\"Test Size: {test_size}, Train Accuracy: {train_acc:.2f}, Test Accuracy: {test_acc:.2f}\")"
   ]
  },
  {
   "cell_type": "code",
   "execution_count": null,
   "id": "acb864ee",
   "metadata": {},
   "outputs": [],
   "source": []
  }
 ],
 "metadata": {
  "kernelspec": {
   "display_name": "Python 3 (ipykernel)",
   "language": "python",
   "name": "python3"
  },
  "language_info": {
   "codemirror_mode": {
    "name": "ipython",
    "version": 3
   },
   "file_extension": ".py",
   "mimetype": "text/x-python",
   "name": "python",
   "nbconvert_exporter": "python",
   "pygments_lexer": "ipython3",
   "version": "3.11.3"
  }
 },
 "nbformat": 4,
 "nbformat_minor": 5
}
